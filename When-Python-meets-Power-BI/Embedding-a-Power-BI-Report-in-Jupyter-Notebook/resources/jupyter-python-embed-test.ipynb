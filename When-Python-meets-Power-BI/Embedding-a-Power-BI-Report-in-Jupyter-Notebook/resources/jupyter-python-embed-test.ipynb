{
 "cells": [
  {
   "cell_type": "code",
   "execution_count": 2,
   "id": "403d55fe",
   "metadata": {},
   "outputs": [],
   "source": [
    "import pandas as pd\n",
    "from powerbiclient import Report, models\n"
   ]
  },
  {
   "cell_type": "code",
   "execution_count": 6,
   "id": "efc80879",
   "metadata": {},
   "outputs": [
    {
     "name": "stdout",
     "output_type": "stream",
     "text": [
      "Performing device flow authentication. Please follow the instructions below.\n",
      "To sign in, use a web browser to open the page https://microsoft.com/devicelogin and enter the code EHGVYV3FH to authenticate.\n",
      "\n",
      "Device flow authentication successfully completed.\n",
      "You are now logged in .\n",
      "\n",
      "The result should be passed only to trusted code in your notebook.\n"
     ]
    }
   ],
   "source": [
    "# Import the DeviceCodeLoginAuthentication class to authenticate against Power BI\n",
    "from powerbiclient.authentication import DeviceCodeLoginAuthentication\n",
    "\n",
    "# Initiate device authentication\n",
    "device_auth = DeviceCodeLoginAuthentication()\n"
   ]
  },
  {
   "cell_type": "code",
   "execution_count": 7,
   "id": "05a48d21",
   "metadata": {},
   "outputs": [],
   "source": [
    "# MY workspace is Python-BI-Integrated. THE ID For this workspace is as follows:\n",
    "group_id=\"cb079ad5-a70c-4649-9353-8a846dfc0034\"\n",
    "\n",
    "# THe report is Python-BI and the id as follows:\n",
    "report_id=\"bb14bf0a-cf85-4551-97fe-9b5a87f4dea2\""
   ]
  },
  {
   "cell_type": "code",
   "execution_count": 8,
   "id": "ccd8701b",
   "metadata": {},
   "outputs": [
    {
     "data": {
      "application/vnd.jupyter.widget-view+json": {
       "model_id": "d9e419c4db2c4273a9b7f7857e57a88a",
       "version_major": 2,
       "version_minor": 0
      },
      "text/plain": [
       "Report()"
      ]
     },
     "execution_count": 8,
     "metadata": {},
     "output_type": "execute_result"
    }
   ],
   "source": [
    "# The REPORT attribute to plug in the values\n",
    "load_bi_report = Report(group_id=group_id, report_id=report_id, auth=device_auth)\n",
    "\n",
    "load_bi_report"
   ]
  },
  {
   "cell_type": "code",
   "execution_count": null,
   "id": "ef6da3c1",
   "metadata": {},
   "outputs": [],
   "source": []
  }
 ],
 "metadata": {
  "kernelspec": {
   "display_name": "Python 3 (ipykernel)",
   "language": "python",
   "name": "python3"
  },
  "language_info": {
   "codemirror_mode": {
    "name": "ipython",
    "version": 3
   },
   "file_extension": ".py",
   "mimetype": "text/x-python",
   "name": "python",
   "nbconvert_exporter": "python",
   "pygments_lexer": "ipython3",
   "version": "3.10.13"
  }
 },
 "nbformat": 4,
 "nbformat_minor": 5
}
