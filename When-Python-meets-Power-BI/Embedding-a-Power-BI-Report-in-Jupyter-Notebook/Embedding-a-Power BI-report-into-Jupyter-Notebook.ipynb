{
 "cells": [
  {
   "cell_type": "code",
   "execution_count": 1,
   "id": "62c07796",
   "metadata": {
    "scrolled": true
   },
   "outputs": [],
   "source": [
    "# import powerbiclient library and necessary BI components\n",
    "from powerbiclient import Report, models\n",
    "\n",
    "# Import the DeviceCodeLoginAuthentication class to authenticate against Power BI\n",
    "from powerbiclient.authentication import DeviceCodeLoginAuthentication"
   ]
  },
  {
   "cell_type": "markdown",
   "id": "9d3e24ee",
   "metadata": {},
   "source": [
    "Requiring authorization and access to Power BI Workspace from Power BI online service"
   ]
  },
  {
   "cell_type": "code",
   "execution_count": 2,
   "id": "90e8aba9",
   "metadata": {},
   "outputs": [
    {
     "name": "stdout",
     "output_type": "stream",
     "text": [
      "Performing device flow authentication. Please follow the instructions below.\n",
      "To sign in, use a web browser to open the page https://microsoft.com/devicelogin and enter the code EME6N4GUA to authenticate.\n",
      "\n",
      "Device flow authentication successfully completed.\n",
      "You are now logged in .\n",
      "\n",
      "The result should be passed only to trusted code in your notebook.\n"
     ]
    }
   ],
   "source": [
    "# Initiate device authentication\n",
    "device_auth = DeviceCodeLoginAuthentication()"
   ]
  },
  {
   "cell_type": "markdown",
   "id": "53d677bd",
   "metadata": {},
   "source": [
    "Setting up workspace ID and report ID"
   ]
  },
  {
   "cell_type": "code",
   "execution_count": 3,
   "id": "53debf58",
   "metadata": {},
   "outputs": [],
   "source": [
    "workspace_id = \"cb079ad5-a70c-4649-9353-8a846dfc0034\"\n",
    "\n",
    "report_id = \"686f1faa-9b1c-4eae-94e7-97cfc3fd585d\""
   ]
  },
  {
   "cell_type": "markdown",
   "id": "6511775f",
   "metadata": {},
   "source": [
    "Use the `REPORT` function from `powerbiclient` to plug in the values to load the report in the notebook"
   ]
  },
  {
   "cell_type": "code",
   "execution_count": 4,
   "id": "cf54a18e",
   "metadata": {},
   "outputs": [
    {
     "data": {
      "application/vnd.jupyter.widget-view+json": {
       "model_id": "b968d68747854649bf751918294e3ae8",
       "version_major": 2,
       "version_minor": 0
      },
      "text/plain": [
       "Report()"
      ]
     },
     "execution_count": 4,
     "metadata": {},
     "output_type": "execute_result"
    }
   ],
   "source": [
    "# The REPORT attribute to plug in the values\n",
    "load_bi_report = Report(group_id=workspace_id, report_id=report_id, auth=device_auth)\n",
    "\n",
    "load_bi_report"
   ]
  },
  {
   "cell_type": "code",
   "execution_count": null,
   "id": "2f98c0b2",
   "metadata": {},
   "outputs": [],
   "source": []
  }
 ],
 "metadata": {
  "kernelspec": {
   "display_name": "Python 3 (ipykernel)",
   "language": "python",
   "name": "python3"
  },
  "language_info": {
   "codemirror_mode": {
    "name": "ipython",
    "version": 3
   },
   "file_extension": ".py",
   "mimetype": "text/x-python",
   "name": "python",
   "nbconvert_exporter": "python",
   "pygments_lexer": "ipython3",
   "version": "3.10.13"
  }
 },
 "nbformat": 4,
 "nbformat_minor": 5
}
